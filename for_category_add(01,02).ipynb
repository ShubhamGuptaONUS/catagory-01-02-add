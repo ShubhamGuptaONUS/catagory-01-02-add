{
 "cells": [
  {
   "cell_type": "markdown",
   "id": "5c666879-8849-4e9d-8f39-2a455edc6680",
   "metadata": {},
   "source": [
    "## Varaint"
   ]
  },
  {
   "cell_type": "code",
   "execution_count": null,
   "id": "22181e72-7b68-49d1-a097-df7ac7c79e95",
   "metadata": {},
   "outputs": [],
   "source": []
  },
  {
   "cell_type": "code",
   "execution_count": null,
   "id": "aea327be-4b6b-4af1-9606-da96ecba1b21",
   "metadata": {
    "scrolled": true
   },
   "outputs": [],
   "source": [
    "import pandas as pd\n",
    "import numpy as np\n",
    "\n",
    "variant_final = pd.read_excel('merge_variants.xlsx',dtype=str)\n",
    "\n",
    "values = variant_final['v_category'].str.split(\",\").sum()\n",
    "\n",
    "# Create a Pandas Series and count unique values\n",
    "value_counts = pd.Series(values).value_counts()\n",
    "value_counts"
   ]
  },
  {
   "cell_type": "code",
   "execution_count": null,
   "id": "b51c3b98-f7a0-449c-8735-0139cb261765",
   "metadata": {},
   "outputs": [],
   "source": [
    "value_counts[value_counts > 3000]"
   ]
  },
  {
   "cell_type": "code",
   "execution_count": null,
   "id": "a3bbc06b-a916-416c-8fe9-18750d58f1de",
   "metadata": {},
   "outputs": [],
   "source": [
    "value_count = value_counts[value_counts > 3000]\n",
    "value_count"
   ]
  },
  {
   "cell_type": "code",
   "execution_count": null,
   "id": "ba0cf196-b4e0-43a8-b51f-f16dcb5a1b78",
   "metadata": {},
   "outputs": [],
   "source": [
    "# Create a mask for 'ALL MENU' categories\n",
    "beer_mask = variant_final['v_category'].str.contains('ALL MENU')\n",
    "\n",
    "# Get the indices of all 'ALL MENU' rows\n",
    "all_menu_indices = variant_final[beer_mask].index\n",
    "\n",
    "# Define the replacement function\n",
    "def replace_category(category, replacement):\n",
    "    if 'ALL MENU' in category:\n",
    "        return category.replace('ALL MENU', replacement, 1)\n",
    "    return category\n",
    "\n",
    "# Update 'v_category' in chunks of 3000\n",
    "# variant_final.loc[all_menu_indices[:3000], 'v_category'] = variant_final.loc[all_menu_indices[:3000], 'v_category'].apply(lambda x: replace_category(x, 'ALL MENU - 01'))\n",
    "variant_final.loc[all_menu_indices[3000:6000], 'v_category'] = variant_final.loc[all_menu_indices[3000:6000], 'v_category'].apply(lambda x: replace_category(x, 'ALL MENU - 01'))\n",
    "variant_final.loc[all_menu_indices[6000:9000], 'v_category'] = variant_final.loc[all_menu_indices[6000:9000], 'v_category'].apply(lambda x: replace_category(x, 'ALL MENU - 02'))\n",
    "variant_final.loc[all_menu_indices[9000:12000], 'v_category'] = variant_final.loc[all_menu_indices[9000:12000], 'v_category'].apply(lambda x: replace_category(x, 'ALL MENU - 03'))\n",
    "variant_final.loc[all_menu_indices[12000:15000], 'v_category'] = variant_final.loc[all_menu_indices[12000:], 'v_category'].apply(lambda x: replace_category(x, 'ALL MENU - 04'))\n",
    "variant_final.loc[all_menu_indices[15000:], 'v_category'] = variant_final.loc[all_menu_indices[12000:], 'v_category'].apply(lambda x: replace_category(x, 'ALL MENU - 05'))\n"
   ]
  },
  {
   "cell_type": "code",
   "execution_count": null,
   "id": "c30e976f-bbd5-4dac-affa-917d34639863",
   "metadata": {},
   "outputs": [],
   "source": []
  },
  {
   "cell_type": "code",
   "execution_count": null,
   "id": "9a5e4f12-3947-49b4-8fb9-cc861cc4a7c3",
   "metadata": {},
   "outputs": [],
   "source": [
    "beer_mask = variant_final['v_category'].str.contains('CRAFT BEER')\n",
    "first_3000_indices = variant_final[beer_mask].index[3000:6000]\n",
    "\n",
    "# Function to replace '06 Beer' with '06 Beer - 01' or '06 Beer - 02'\n",
    "def replace_category(category, replacement):\n",
    "    if 'CRAFT BEER' in category:\n",
    "        return category.replace('CRAFT BEER', replacement, 1)\n",
    "    return category\n",
    "\n",
    "# Update the category for these indices to '06 Beer - 01'\n",
    "variant_final.loc[first_3000_indices, 'v_category'] = variant_final.loc[first_3000_indices, 'v_category'].apply(lambda x: replace_category(x, 'CRAFT BEER - 01'))\n"
   ]
  },
  {
   "cell_type": "code",
   "execution_count": null,
   "id": "9306c395-e3c3-4aba-be77-49d515d7c8c2",
   "metadata": {},
   "outputs": [],
   "source": []
  },
  {
   "cell_type": "code",
   "execution_count": null,
   "id": "9dee7c01-482f-40c4-83c3-db21086664bf",
   "metadata": {},
   "outputs": [],
   "source": [
    "beer_mask = variant_final['v_category'].str.contains('LIQUOR')\n",
    "first_3000_indices = variant_final[beer_mask].index[3000:6000]\n",
    "\n",
    "# Function to replace '06 Beer' with '06 Beer - 01' or '06 Beer - 02'\n",
    "def replace_category(category, replacement):\n",
    "    if 'LIQUOR' in category:\n",
    "        return category.replace('LIQUOR', replacement, 1)\n",
    "    return category\n",
    "\n",
    "# Update the category for these indices to '06 Beer - 01'\n",
    "variant_final.loc[first_3000_indices, 'v_category'] = variant_final.loc[first_3000_indices, 'v_category'].apply(lambda x: replace_category(x, 'LIQUOR - 01'))\n"
   ]
  },
  {
   "cell_type": "code",
   "execution_count": null,
   "id": "baadce15-9e1b-4faf-908c-542c77c3f85a",
   "metadata": {},
   "outputs": [],
   "source": []
  },
  {
   "cell_type": "code",
   "execution_count": null,
   "id": "31bd0ba9-2a7e-4401-9749-e130ced54b43",
   "metadata": {},
   "outputs": [],
   "source": [
    "beer_mask = variant_final['v_category'].str.contains('FINE WINE')\n",
    "first_3000_indices = variant_final[beer_mask].index[3000:6000]\n",
    "\n",
    "# Function to replace '06 Beer' with '06 Beer - 01' or '06 Beer - 02'\n",
    "def replace_category(category, replacement):\n",
    "    if 'FINE WINE' in category:\n",
    "        return category.replace('FINE WINE', replacement, 1)\n",
    "    return category\n",
    "\n",
    "# Update the category for these indices to '06 Beer - 01'\n",
    "variant_final.loc[first_3000_indices, 'v_category'] = variant_final.loc[first_3000_indices, 'v_category'].apply(lambda x: replace_category(x, 'FINE WINE - 01'))\n"
   ]
  },
  {
   "cell_type": "code",
   "execution_count": null,
   "id": "3097ae8a-df5c-41ae-ab4e-ca25f9a64b66",
   "metadata": {},
   "outputs": [],
   "source": []
  },
  {
   "cell_type": "code",
   "execution_count": null,
   "id": "b1139902-977b-4246-893c-e7f7b328a329",
   "metadata": {},
   "outputs": [],
   "source": [
    "beer_mask = variant_final['v_category'].str.contains('15% OFF 12 BTLS OF WINE!')\n",
    "first_3000_indices = variant_final[beer_mask].index[3000:6000]\n",
    "\n",
    "# Function to replace '06 Beer' with '06 Beer - 01' or '06 Beer - 02'\n",
    "def replace_category(category, replacement):\n",
    "    if '15% OFF 12 BTLS OF WINE!' in category:\n",
    "        return category.replace('15% OFF 12 BTLS OF WINE!', replacement, 1)\n",
    "    return category\n",
    "\n",
    "# Update the category for these indices to '06 Beer - 01'\n",
    "variant_final.loc[first_3000_indices, 'v_category'] = variant_final.loc[first_3000_indices, 'v_category'].apply(lambda x: replace_category(x, '15% OFF 12 BTLS OF WINE! - 01'))\n"
   ]
  },
  {
   "cell_type": "code",
   "execution_count": null,
   "id": "b4b1c0df-2b67-4bb5-8e89-c2ba16beb78c",
   "metadata": {},
   "outputs": [],
   "source": []
  },
  {
   "cell_type": "code",
   "execution_count": null,
   "id": "11cceff2-f530-4d26-967a-972f51c270fa",
   "metadata": {},
   "outputs": [],
   "source": [
    "# Create a mask to match 'BEER' exactly (excluding 'CRAFT BEER', etc.)\n",
    "beer_mask = variant_final['v_category'].str.contains(r'\\bBEER\\b', case=False, regex=True)\n",
    "\n",
    "# Get the indices of all 'BEER' rows\n",
    "beer_indices = variant_final[beer_mask].index\n",
    "\n",
    "# Define the replacement function\n",
    "def replace_category(category, replacement):\n",
    "    if 'BEER' in category:\n",
    "        return category.replace('BEER', replacement, 1)\n",
    "    return category\n",
    "\n",
    "# Update 'v_category' in chunks of 3000\n",
    "# variant_final.loc[beer_indices[:3000], 'v_category'] = variant_final.loc[beer_indices[:3000], 'v_category'].apply(lambda x: replace_category(x, 'BEER - 01'))\n",
    "variant_final.loc[beer_indices[3000:6000], 'v_category'] = variant_final.loc[beer_indices[3000:6000], 'v_category'].apply(lambda x: replace_category(x, 'BEER - 01'))\n",
    "variant_final.loc[beer_indices[6000:9000], 'v_category'] = variant_final.loc[beer_indices[6000:9000], 'v_category'].apply(lambda x: replace_category(x, 'BEER - 02'))\n",
    "# variant_final.loc[beer_indices[9000:12000], 'v_category'] = variant_final.loc[beer_indices[9000:12000], 'v_category'].apply(lambda x: replace_category(x, 'BEER - 03'))\n",
    "# variant_final.loc[beer_indices[12000:], 'v_category'] = variant_final.loc[beer_indices[12000:], 'v_category'].apply(lambda x: replace_category(x, 'BEER - 04'))\n"
   ]
  },
  {
   "cell_type": "code",
   "execution_count": null,
   "id": "633186cd-2d84-4799-8786-c1e03e962af7",
   "metadata": {},
   "outputs": [],
   "source": []
  },
  {
   "cell_type": "code",
   "execution_count": null,
   "id": "5f498068-b715-4604-b9a2-1e457924a8cd",
   "metadata": {},
   "outputs": [],
   "source": [
    "variant_final.to_excel('variant_after_catagory(01)add.xlsx',index=False)"
   ]
  },
  {
   "cell_type": "code",
   "execution_count": null,
   "id": "a86ef28c-a9ed-401f-81c4-8362f1956743",
   "metadata": {
    "scrolled": true
   },
   "outputs": [],
   "source": [
    "variant_final"
   ]
  },
  {
   "cell_type": "code",
   "execution_count": null,
   "id": "285f505a-02c0-4362-8418-8bd22a038531",
   "metadata": {},
   "outputs": [],
   "source": []
  },
  {
   "cell_type": "code",
   "execution_count": null,
   "id": "9a7b3923-0736-44b6-bf57-e5c12313c4d4",
   "metadata": {},
   "outputs": [],
   "source": []
  },
  {
   "cell_type": "code",
   "execution_count": null,
   "id": "c513b208-a356-4b06-806d-7495e2f80dcf",
   "metadata": {},
   "outputs": [],
   "source": []
  },
  {
   "cell_type": "code",
   "execution_count": null,
   "id": "e30b55f6-056a-4d4c-b648-b8a571ead80d",
   "metadata": {},
   "outputs": [],
   "source": []
  },
  {
   "cell_type": "code",
   "execution_count": null,
   "id": "72abd85d-54f4-412d-bbd8-b7a404c20a84",
   "metadata": {},
   "outputs": [],
   "source": []
  },
  {
   "cell_type": "markdown",
   "id": "9de5034e-729e-4ee3-8c4e-dba97e11b365",
   "metadata": {},
   "source": [
    "## Products"
   ]
  },
  {
   "cell_type": "code",
   "execution_count": 1,
   "id": "b1e4f0c3-af4c-4701-932f-856b9e3a1267",
   "metadata": {
    "scrolled": true
   },
   "outputs": [
    {
     "data": {
      "text/plain": [
       "ALL MENU                     14053\n",
       "BEER                          5322\n",
       "LIQUOR                        4149\n",
       "CRAFT BEER                    3602\n",
       "FINE WINE                     3490\n",
       "                             ...  \n",
       "TAP RETURN                       1\n",
       "SPARKLING WINE - IMPORTED        1\n",
       "FIX DESCRIPTION                  1\n",
       "CIGARETTE MISC                   1\n",
       " 2 FOR $50                       1\n",
       "Name: count, Length: 137, dtype: int64"
      ]
     },
     "execution_count": 1,
     "metadata": {},
     "output_type": "execute_result"
    }
   ],
   "source": [
    "import pandas as pd\n",
    "import numpy as np\n",
    "\n",
    "variant_final = pd.read_excel('output_2merge_main_products_after_expload.xlsx',dtype=str)\n",
    "\n",
    "values = variant_final['category_name'].str.split(\",\").sum()\n",
    "\n",
    "# Create a Pandas Series and count unique values\n",
    "value_counts = pd.Series(values).value_counts()\n",
    "value_counts"
   ]
  },
  {
   "cell_type": "code",
   "execution_count": 2,
   "id": "dfc5e7c5-033a-46f1-a8f1-006b67f66e3c",
   "metadata": {},
   "outputs": [
    {
     "data": {
      "text/plain": [
       "ALL MENU                    14053\n",
       "BEER                         5322\n",
       "LIQUOR                       4149\n",
       "CRAFT BEER                   3602\n",
       "FINE WINE                    3490\n",
       "15% OFF 12 BTLS OF WINE!     3091\n",
       "Name: count, dtype: int64"
      ]
     },
     "execution_count": 2,
     "metadata": {},
     "output_type": "execute_result"
    }
   ],
   "source": [
    "value_counts[value_counts > 3000]"
   ]
  },
  {
   "cell_type": "code",
   "execution_count": 3,
   "id": "89515baf-9007-4b32-a796-2ab493a5efe1",
   "metadata": {},
   "outputs": [
    {
     "data": {
      "text/plain": [
       "ALL MENU                    14053\n",
       "BEER                         5322\n",
       "LIQUOR                       4149\n",
       "CRAFT BEER                   3602\n",
       "FINE WINE                    3490\n",
       "15% OFF 12 BTLS OF WINE!     3091\n",
       "Name: count, dtype: int64"
      ]
     },
     "execution_count": 3,
     "metadata": {},
     "output_type": "execute_result"
    }
   ],
   "source": [
    "value_count = value_counts[value_counts > 3000]\n",
    "value_count"
   ]
  },
  {
   "cell_type": "code",
   "execution_count": 4,
   "id": "fa7cf6d4-b6cb-4c9c-a9e0-21880a555c7c",
   "metadata": {},
   "outputs": [],
   "source": [
    "# Create a mask for 'ALL MENU' categories\n",
    "beer_mask = variant_final['category_name'].str.contains('ALL MENU')\n",
    "\n",
    "# Get the indices of all 'ALL MENU' rows\n",
    "all_menu_indices = variant_final[beer_mask].index\n",
    "\n",
    "# Define the replacement function\n",
    "def replace_category(category, replacement):\n",
    "    if 'ALL MENU' in category:\n",
    "        return category.replace('ALL MENU', replacement, 1)\n",
    "    return category\n",
    "\n",
    "# Update 'v_category' in chunks of 3000\n",
    "# variant_final.loc[all_menu_indices[:3000], 'v_category'] = variant_final.loc[all_menu_indices[:3000], 'v_category'].apply(lambda x: replace_category(x, 'ALL MENU - 01'))\n",
    "variant_final.loc[all_menu_indices[3000:6000], 'category_name'] = variant_final.loc[all_menu_indices[3000:6000], 'category_name'].apply(lambda x: replace_category(x, 'ALL MENU - 01'))\n",
    "variant_final.loc[all_menu_indices[6000:9000], 'category_name'] = variant_final.loc[all_menu_indices[6000:9000], 'category_name'].apply(lambda x: replace_category(x, 'ALL MENU - 02'))\n",
    "variant_final.loc[all_menu_indices[9000:12000], 'category_name'] = variant_final.loc[all_menu_indices[9000:12000], 'category_name'].apply(lambda x: replace_category(x, 'ALL MENU - 03'))\n",
    "variant_final.loc[all_menu_indices[12000:15000], 'category_name'] = variant_final.loc[all_menu_indices[12000:], 'category_name'].apply(lambda x: replace_category(x, 'ALL MENU - 04'))\n"
   ]
  },
  {
   "cell_type": "code",
   "execution_count": 6,
   "id": "78d52e0a-de69-4b85-9b12-660e210e4314",
   "metadata": {},
   "outputs": [],
   "source": [
    "beer_mask = variant_final['category_name'].str.contains('CRAFT BEER')\n",
    "first_3000_indices = variant_final[beer_mask].index[3000:6000]\n",
    "\n",
    "# Function to replace '06 Beer' with '06 Beer - 01' or '06 Beer - 02'\n",
    "def replace_category(category, replacement):\n",
    "    if 'CRAFT BEER' in category:\n",
    "        return category.replace('CRAFT BEER', replacement, 1)\n",
    "    return category\n",
    "\n",
    "# Update the category for these indices to '06 Beer - 01'\n",
    "variant_final.loc[first_3000_indices, 'category_name'] = variant_final.loc[first_3000_indices, 'category_name'].apply(lambda x: replace_category(x, 'CRAFT BEER - 01'))\n"
   ]
  },
  {
   "cell_type": "code",
   "execution_count": 8,
   "id": "ba8ba11f-5af4-4302-ba66-5dbd5d546ae3",
   "metadata": {},
   "outputs": [],
   "source": [
    "beer_mask = variant_final['category_name'].str.contains('LIQUOR')\n",
    "first_3000_indices = variant_final[beer_mask].index[3000:6000]\n",
    "\n",
    "# Function to replace '06 Beer' with '06 Beer - 01' or '06 Beer - 02'\n",
    "def replace_category(category, replacement):\n",
    "    if 'LIQUOR' in category:\n",
    "        return category.replace('LIQUOR', replacement, 1)\n",
    "    return category\n",
    "\n",
    "# Update the category for these indices to '06 Beer - 01'\n",
    "variant_final.loc[first_3000_indices, 'category_name'] = variant_final.loc[first_3000_indices, 'category_name'].apply(lambda x: replace_category(x, 'LIQUOR - 01'))\n"
   ]
  },
  {
   "cell_type": "code",
   "execution_count": 7,
   "id": "735e1ae2-9a32-46dd-bb4c-1a7f0ad9c769",
   "metadata": {},
   "outputs": [],
   "source": [
    "beer_mask = variant_final['category_name'].str.contains('FINE WINE')\n",
    "first_3000_indices = variant_final[beer_mask].index[3000:6000]\n",
    "\n",
    "# Function to replace '06 Beer' with '06 Beer - 01' or '06 Beer - 02'\n",
    "def replace_category(category, replacement):\n",
    "    if 'FINE WINE' in category:\n",
    "        return category.replace('FINE WINE', replacement, 1)\n",
    "    return category\n",
    "\n",
    "# Update the category for these indices to '06 Beer - 01'\n",
    "variant_final.loc[first_3000_indices, 'category_name'] = variant_final.loc[first_3000_indices, 'category_name'].apply(lambda x: replace_category(x, 'FINE WINE - 01'))\n"
   ]
  },
  {
   "cell_type": "code",
   "execution_count": 9,
   "id": "c06e13f5-1b73-4d25-b8e9-1ec20b3f0502",
   "metadata": {},
   "outputs": [],
   "source": [
    "beer_mask = variant_final['category_name'].str.contains('15% OFF 12 BTLS OF WINE!')\n",
    "first_3000_indices = variant_final[beer_mask].index[3000:6000]\n",
    "\n",
    "# Function to replace '06 Beer' with '06 Beer - 01' or '06 Beer - 02'\n",
    "def replace_category(category, replacement):\n",
    "    if '15% OFF 12 BTLS OF WINE!' in category:\n",
    "        return category.replace('15% OFF 12 BTLS OF WINE!', replacement, 1)\n",
    "    return category\n",
    "\n",
    "# Update the category for these indices to '06 Beer - 01'\n",
    "variant_final.loc[first_3000_indices, 'category_name'] = variant_final.loc[first_3000_indices, 'category_name'].apply(lambda x: replace_category(x, '15% OFF 12 BTLS OF WINE! - 01'))\n"
   ]
  },
  {
   "cell_type": "code",
   "execution_count": 5,
   "id": "ab7e2269-b4fe-4c9a-bf0d-a92f807ce9b1",
   "metadata": {},
   "outputs": [],
   "source": [
    "# Create a mask to match 'BEER' exactly (excluding 'CRAFT BEER', etc.)\n",
    "beer_mask = variant_final['category_name'].str.contains(r'\\bBEER\\b', case=False, regex=True)\n",
    "\n",
    "# Get the indices of all 'BEER' rows\n",
    "beer_indices = variant_final[beer_mask].index\n",
    "\n",
    "# Define the replacement function\n",
    "def replace_category(category, replacement):\n",
    "    if 'BEER' in category:\n",
    "        return category.replace('BEER', replacement, 1)\n",
    "    return category\n",
    "\n",
    "# Update 'v_category' in chunks of 3000\n",
    "# variant_final.loc[beer_indices[:3000], 'v_category'] = variant_final.loc[beer_indices[:3000], 'v_category'].apply(lambda x: replace_category(x, 'BEER - 01'))\n",
    "variant_final.loc[beer_indices[3000:6000], 'category_name'] = variant_final.loc[beer_indices[3000:6000], 'category_name'].apply(lambda x: replace_category(x, 'BEER - 01'))\n",
    "# variant_final.loc[beer_indices[6000:9000], 'category_name'] = variant_final.loc[beer_indices[6000:9000], 'category_name'].apply(lambda x: replace_category(x, 'BEER - 02'))\n"
   ]
  },
  {
   "cell_type": "code",
   "execution_count": 10,
   "id": "2a04a595-c83e-466c-a737-96cd09cb670f",
   "metadata": {},
   "outputs": [],
   "source": [
    "variant_final.to_excel('main_product_after_catagory(01)add.xlsx',index=False)"
   ]
  },
  {
   "cell_type": "code",
   "execution_count": null,
   "id": "b37c00d8-4a45-44f7-b8f7-7d8b89534200",
   "metadata": {},
   "outputs": [],
   "source": []
  }
 ],
 "metadata": {
  "kernelspec": {
   "display_name": "Python 3 (ipykernel)",
   "language": "python",
   "name": "python3"
  },
  "language_info": {
   "codemirror_mode": {
    "name": "ipython",
    "version": 3
   },
   "file_extension": ".py",
   "mimetype": "text/x-python",
   "name": "python",
   "nbconvert_exporter": "python",
   "pygments_lexer": "ipython3",
   "version": "3.8.10"
  }
 },
 "nbformat": 4,
 "nbformat_minor": 5
}
